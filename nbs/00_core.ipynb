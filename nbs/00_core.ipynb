{
 "cells": [
  {
   "cell_type": "markdown",
   "metadata": {},
   "source": [
    "# Core Functionality\n",
    "\n",
    "> Core functionality for the fh-posts package."
   ]
  },
  {
   "cell_type": "code",
   "execution_count": null,
   "metadata": {},
   "outputs": [],
   "source": [
    "#| default_exp core"
   ]
  },
  {
   "cell_type": "code",
   "execution_count": null,
   "metadata": {},
   "outputs": [],
   "source": [
    "#| hide\n",
    "from nbdev.showdoc import *"
   ]
  },
  {
   "cell_type": "code",
   "execution_count": null,
   "metadata": {},
   "outputs": [],
   "source": [
    "#| export\n",
    "from pathlib import Path\n",
    "import yaml\n",
    "from fastcore.basics import AttrDict\n",
    "from fastcore.foundation import add_docs\n",
    "from fasthtml.common import to_xml, NotStr\n",
    "from monsterui.all import *\n",
    "import nbformat\n",
    "from nbconvert.preprocessors import ExecutePreprocessor\n",
    "import re\n",
    "from bs4 import BeautifulSoup\n",
    "import io\n",
    "import sys\n",
    "from typing import List, Dict, Union, Optional, Callable\n",
    "import logging\n",
    "from datetime import datetime\n",
    "from fastcore.test import *"
   ]
  },
  {
   "cell_type": "code",
   "execution_count": null,
   "metadata": {},
   "outputs": [],
   "source": [
    "#| export\n",
    "# Set up logging\n",
    "logging.basicConfig(level=logging.INFO)\n",
    "logger = logging.getLogger(\"fh-posts\")"
   ]
  },
  {
   "cell_type": "markdown",
   "metadata": {},
   "source": [
    "## Post class"
   ]
  },
  {
   "cell_type": "code",
   "execution_count": null,
   "metadata": {},
   "outputs": [],
   "source": [
    "#| export\n",
    "class Post:\n",
    "    \"\"\"Represents a blog post with its metadata and content. This class provides methods \n",
    "    to render the post content with optional code execution and formatting options.\"\"\"\n",
    "    def __init__(\n",
    "            self, # The post to initialize\n",
    "            path: Path, # The path to the post\n",
    "            metadata: AttrDict, # The metadata for the post\n",
    "            slug: str # The slug for the post\n",
    "            ):\n",
    "        self.path = path\n",
    "        self.metadata = metadata\n",
    "        self.slug = slug\n",
    "        self._execution_state = {}\n",
    "        \n",
    "    def __getitem__(self, key):\n",
    "        return self.metadata[key]\n",
    "    \n",
    "    def __getattr__(self, name):\n",
    "        if name in self.metadata:\n",
    "            return self.metadata[name]\n",
    "        raise AttributeError(f\"'Post' object has no attribute '{name}'\")\n",
    "    \n",
    "    def render(\n",
    "            self, # The post to render\n",
    "            open_links_new_window: bool = False, # Whether to open links in a new window\n",
    "            live_label: bool = True # Whether to show the live label\n",
    "            ) -> NotStr:\n",
    "        \"\"\"Render the post content with code execution as specified by tags.\"\"\"\n",
    "        if self.path.suffix == '.md':\n",
    "            return render_markdown_post(self, open_links_new_window, live_label)\n",
    "        elif self.path.suffix == '.ipynb':\n",
    "            return render_notebook_post(self, open_links_new_window, live_label)\n",
    "        else:\n",
    "            raise ValueError(f\"Unsupported file type: {self.path.suffix}\")\n",
    "    \n",
    "    def __repr__(self):\n",
    "        return f\"Post(slug='{self.slug}', title='{self.metadata.get('title', 'Untitled')}', path='{self.path}')\""
   ]
  },
  {
   "cell_type": "code",
   "execution_count": null,
   "metadata": {},
   "outputs": [
    {
     "data": {
      "text/markdown": [
       "---\n",
       "\n",
       "[source](https://github.com/decherd/fh_posts/blob/main/fh_posts/core.py#L55){target=\"_blank\" style=\"float:right; font-size:smaller\"}\n",
       "\n",
       "### Post.render\n",
       "\n",
       ">      Post.render (open_links_new_window:bool=False, live_label:bool=True)\n",
       "\n",
       "*Render the post content with code execution as specified by tags.*\n",
       "\n",
       "|    | **Type** | **Default** | **Details** |\n",
       "| -- | -------- | ----------- | ----------- |\n",
       "| open_links_new_window | bool | False | Whether to open links in a new window |\n",
       "| live_label | bool | True | Whether to show the live label |\n",
       "| **Returns** | **NotStr** |  |  |"
      ],
      "text/plain": [
       "---\n",
       "\n",
       "[source](https://github.com/decherd/fh_posts/blob/main/fh_posts/core.py#L55){target=\"_blank\" style=\"float:right; font-size:smaller\"}\n",
       "\n",
       "### Post.render\n",
       "\n",
       ">      Post.render (open_links_new_window:bool=False, live_label:bool=True)\n",
       "\n",
       "*Render the post content with code execution as specified by tags.*\n",
       "\n",
       "|    | **Type** | **Default** | **Details** |\n",
       "| -- | -------- | ----------- | ----------- |\n",
       "| open_links_new_window | bool | False | Whether to open links in a new window |\n",
       "| live_label | bool | True | Whether to show the live label |\n",
       "| **Returns** | **NotStr** |  |  |"
      ]
     },
     "execution_count": null,
     "metadata": {},
     "output_type": "execute_result"
    }
   ],
   "source": [
    "show_doc(Post.render)"
   ]
  },
  {
   "cell_type": "markdown",
   "metadata": {},
   "source": [
    "## Front Matter"
   ]
  },
  {
   "cell_type": "markdown",
   "metadata": {},
   "source": [
    "Front matter is the metadata that is stored in the file before the content. In a notebook, it is the YAML frontmatter that is stored in the first cell as a raw cell. In a markdown file, it is the YAML frontmatter that is stored in the file before the content.\n",
    "\n",
    "The `extract_frontmatter` function is used to extract the frontmatter from a file.\n",
    "\n",
    "The `extract_notebook_frontmatter` function is used to extract the frontmatter from a notebook.\n",
    "\n",
    "Sample front matter:\n",
    "```\n",
    "---\n",
    "title: WorldTest\n",
    "summary: A test of a .md file\n",
    "date: February 25, 2025\n",
    "tags:\n",
    "  - python\n",
    "  - fasthtml\n",
    "  - monsterui\n",
    "---\n",
    "```"
   ]
  },
  {
   "cell_type": "code",
   "execution_count": null,
   "metadata": {},
   "outputs": [],
   "source": [
    "#| export\n",
    "def extract_frontmatter(\n",
    "        file_path: Path # The path to the file to extract the frontmatter from\n",
    "        ) -> AttrDict:\n",
    "    \"\"\"Extract YAML frontmatter from a Markdown file.\"\"\"\n",
    "    with open(file_path, 'r', encoding='utf-8') as f:\n",
    "        content = f.read()\n",
    "    \n",
    "    # Check if the file starts with frontmatter (---)\n",
    "    if content.startswith('---'):\n",
    "        # Split on the second --- to get frontmatter\n",
    "        parts = content.split('---', 2)\n",
    "        if len(parts) >= 3:\n",
    "            try:\n",
    "                yaml_content = parts[1].strip()\n",
    "                metadata = yaml.safe_load(yaml_content) or {}\n",
    "                return AttrDict(metadata)\n",
    "            except yaml.YAMLError as e:\n",
    "                logger.error(f\"Error parsing YAML frontmatter in {file_path}: {e}\")\n",
    "    \n",
    "    # Return empty metadata if no frontmatter found\n",
    "    return AttrDict({})"
   ]
  },
  {
   "cell_type": "code",
   "execution_count": null,
   "metadata": {},
   "outputs": [
    {
     "data": {
      "text/markdown": [
       "```json\n",
       "{ 'date': 'February 25, 2025',\n",
       "  'summary': 'A test of a .md file',\n",
       "  'tags': ['python', 'fasthtml', 'monsterui'],\n",
       "  'title': 'MD Test'}\n",
       "```"
      ],
      "text/plain": [
       "{'title': 'MD Test',\n",
       " 'summary': 'A test of a .md file',\n",
       " 'date': 'February 25, 2025',\n",
       " 'tags': ['python', 'fasthtml', 'monsterui']}"
      ]
     },
     "execution_count": null,
     "metadata": {},
     "output_type": "execute_result"
    }
   ],
   "source": [
    "md_path = Path('posts/md_test.md')\n",
    "md_metadata = extract_frontmatter(md_path)\n",
    "md_metadata"
   ]
  },
  {
   "cell_type": "markdown",
   "metadata": {},
   "source": [
    "Because `extract_frontmatter` returns an `AttrDict`, you can access the metadata using keys or attributes."
   ]
  },
  {
   "cell_type": "code",
   "execution_count": null,
   "metadata": {},
   "outputs": [],
   "source": [
    "test_eq(md_metadata['date'], 'February 25, 2025')\n",
    "test_eq(md_metadata.date, 'February 25, 2025')\n",
    "assert isinstance(md_metadata.tags, list)"
   ]
  },
  {
   "cell_type": "code",
   "execution_count": null,
   "metadata": {},
   "outputs": [],
   "source": [
    "#| export\n",
    "def extract_notebook_frontmatter(\n",
    "        file_path: Path # The path to the notebook to extract the frontmatter from\n",
    "        ) -> AttrDict:\n",
    "    \"\"\"Extract YAML frontmatter from a Jupyter Notebook file.\"\"\"\n",
    "    notebook = nbformat.read(file_path, as_version=4)\n",
    "    \n",
    "    # Check if the first cell is raw and contains frontmatter\n",
    "    if len(notebook.cells) > 0 and notebook.cells[0].cell_type == 'raw':\n",
    "        cell_content = notebook.cells[0].source\n",
    "        if cell_content.startswith('---') and '---' in cell_content[3:]:\n",
    "            try:\n",
    "                # Extract content between first two --- markers\n",
    "                yaml_content = cell_content.split('---', 2)[1].strip()\n",
    "                metadata = yaml.safe_load(yaml_content) or {}\n",
    "                return AttrDict(metadata)\n",
    "            except yaml.YAMLError as e:\n",
    "                logger.error(f\"Error parsing YAML frontmatter in {file_path}: {e}\")\n",
    "    \n",
    "    # Return empty metadata if no frontmatter found\n",
    "    return AttrDict({})"
   ]
  },
  {
   "cell_type": "code",
   "execution_count": null,
   "metadata": {},
   "outputs": [
    {
     "data": {
      "text/markdown": [
       "```json\n",
       "{ 'date': 'February 24, 2025',\n",
       "  'summary': 'A test of an .ipynb file',\n",
       "  'tags': ['python', 'fasthtml', 'monsterui'],\n",
       "  'title': 'NB Test'}\n",
       "```"
      ],
      "text/plain": [
       "{'title': 'NB Test',\n",
       " 'summary': 'A test of an .ipynb file',\n",
       " 'date': 'February 24, 2025',\n",
       " 'tags': ['python', 'fasthtml', 'monsterui']}"
      ]
     },
     "execution_count": null,
     "metadata": {},
     "output_type": "execute_result"
    }
   ],
   "source": [
    "nb_path = Path('posts/nb_test.ipynb')\n",
    "nb_metadata = extract_notebook_frontmatter(nb_path)\n",
    "nb_metadata"
   ]
  },
  {
   "cell_type": "code",
   "execution_count": null,
   "metadata": {},
   "outputs": [],
   "source": [
    "test_eq(nb_metadata['title'], 'NB Test')\n",
    "test_eq(nb_metadata.summary, 'A test of an .ipynb file')"
   ]
  },
  {
   "cell_type": "markdown",
   "metadata": {},
   "source": [
    "Once we have the metadata, we can create a `Post` object and test that we can access the metadata using keys or attributes."
   ]
  },
  {
   "cell_type": "code",
   "execution_count": null,
   "metadata": {},
   "outputs": [],
   "source": [
    "md_post = Post(md_path, md_metadata, 'world')\n",
    "nb_post = Post(nb_path, nb_metadata, 'hello')\n",
    "test_eq(md_post['date'], 'February 25, 2025')\n",
    "test_eq(nb_post.date, 'February 24, 2025')\n",
    "assert isinstance(md_post.tags, list)\n"
   ]
  },
  {
   "cell_type": "code",
   "execution_count": null,
   "metadata": {},
   "outputs": [],
   "source": [
    "#| export\n",
    "def get_post_date(\n",
    "        post, # The post to get the date from\n",
    "        date_format=\"%B %d, %Y\" # The format string for the date i.e. \"January 01, 2025\"\n",
    "        ) -> datetime:\n",
    "    \"\"\"Extract date from post for sorting.\"\"\"\n",
    "    \n",
    "    if 'date' in post.metadata:\n",
    "        try:\n",
    "            return datetime.strptime(post.metadata['date'], date_format)\n",
    "        except:\n",
    "            pass\n",
    "    return datetime.min"
   ]
  },
  {
   "cell_type": "code",
   "execution_count": null,
   "metadata": {},
   "outputs": [],
   "source": [
    "test_eq(get_post_date(md_post), datetime.strptime('February 25, 2025', \"%B %d, %Y\"))\n",
    "test_eq(get_post_date(nb_post), datetime.strptime('February 24, 2025', \"%B %d, %Y\"))"
   ]
  },
  {
   "cell_type": "code",
   "execution_count": null,
   "metadata": {},
   "outputs": [],
   "source": [
    "#| export\n",
    "def load_posts(\n",
    "        path: str|Path, # The path to the directory containing the posts\n",
    "        date_format: str = \"%B %d, %Y\" # The format string for the date i.e. \"January 01, 2025\"\n",
    "        ) -> List[Post]:\n",
    "    \"\"\"Load all posts from the specified directory. Extracts frontmatter from markdown files and notebooks\n",
    "    with `extract_frontmatter` and `extract_notebook_frontmatter` respectively. Specify optional date format \n",
    "    string for `get_post_date` to sort posts by date.\"\"\"\n",
    "    \n",
    "    posts_dir = Path(path)\n",
    "    posts = []\n",
    "    \n",
    "    # Process Markdown files\n",
    "    for file_path in posts_dir.glob(\"*.md\"):\n",
    "        try:\n",
    "            metadata = extract_frontmatter(file_path)\n",
    "            slug = file_path.stem\n",
    "            posts.append(Post(file_path, metadata, slug))\n",
    "        except Exception as e:\n",
    "            logger.error(f\"Error processing {file_path}: {e}\")\n",
    "    \n",
    "    # Process Jupyter Notebook files\n",
    "    for file_path in posts_dir.glob(\"*.ipynb\"):\n",
    "        try:\n",
    "            metadata = extract_notebook_frontmatter(file_path)\n",
    "            slug = file_path.stem\n",
    "            posts.append(Post(file_path, metadata, slug))\n",
    "        except Exception as e:\n",
    "            logger.error(f\"Error processing {file_path}: {e}\")\n",
    "    \n",
    "    # Sort posts by date if available, newest first\n",
    "    return sorted(posts, key=lambda post: get_post_date(post), reverse=True)"
   ]
  },
  {
   "cell_type": "markdown",
   "metadata": {},
   "source": [
    "Posts are loaded and sorted by date in reverse order so newest post come first."
   ]
  },
  {
   "cell_type": "code",
   "execution_count": null,
   "metadata": {},
   "outputs": [
    {
     "data": {
      "text/plain": [
       "[Post(slug='md_test', title='MD Test', path='posts/md_test.md'),\n",
       " Post(slug='nb_test', title='NB Test', path='posts/nb_test.ipynb')]"
      ]
     },
     "execution_count": null,
     "metadata": {},
     "output_type": "execute_result"
    }
   ],
   "source": [
    "posts = load_posts('posts')\n",
    "posts"
   ]
  },
  {
   "cell_type": "code",
   "execution_count": null,
   "metadata": {},
   "outputs": [
    {
     "name": "stdout",
     "output_type": "stream",
     "text": [
      "['February 25, 2025', 'February 24, 2025']\n"
     ]
    }
   ],
   "source": [
    "print([post.date for post in posts])"
   ]
  },
  {
   "cell_type": "code",
   "execution_count": null,
   "metadata": {},
   "outputs": [],
   "source": [
    "test_eq(posts[0].date, 'February 25, 2025')"
   ]
  },
  {
   "cell_type": "markdown",
   "metadata": {},
   "source": [
    "## Helper Functions"
   ]
  },
  {
   "cell_type": "code",
   "execution_count": null,
   "metadata": {},
   "outputs": [],
   "source": [
    "#| export\n",
    "def parse_tag(tag_str: str) -> Dict[str, bool]:\n",
    "    \"\"\"Parse a tag string into a dict of tag properties e.g., 'python:run:hide-in'.\"\"\"\n",
    "    # Default properties\n",
    "    tag_props = {\n",
    "        'run': False,       # Execute the code\n",
    "        'hide_in': False,   # Hide the input code\n",
    "        'hide_out': False,  # Hide the output\n",
    "        'hide_call': False,      # Hide the final call line\n",
    "    }\n",
    "    \n",
    "    if not tag_str:\n",
    "        return tag_props\n",
    "    \n",
    "    # Split the tag string and process each part\n",
    "    parts = tag_str.split(':')\n",
    "    \n",
    "    # First part should be 'python'\n",
    "    if len(parts) == 0 or parts[0] != 'python':\n",
    "        return tag_props\n",
    "    \n",
    "    \n",
    "    # Process the rest of the parts\n",
    "    for part in parts[1:]:\n",
    "        if part == 'run':\n",
    "            tag_props['run'] = True\n",
    "        elif part == 'hide':\n",
    "            tag_props['hide_in'] = True\n",
    "            tag_props['hide_out'] = True\n",
    "        elif part == 'hide-in':\n",
    "            tag_props['hide_in'] = True\n",
    "        elif part == 'hide-out':\n",
    "            tag_props['hide_out'] = True\n",
    "        elif part == 'hide-call':\n",
    "            tag_props['hide_call'] = True\n",
    "    \n",
    "    return tag_props"
   ]
  },
  {
   "cell_type": "code",
   "execution_count": null,
   "metadata": {},
   "outputs": [
    {
     "data": {
      "text/plain": [
       "{'run': True, 'hide_in': True, 'hide_out': True, 'hide_call': False}"
      ]
     },
     "execution_count": null,
     "metadata": {},
     "output_type": "execute_result"
    }
   ],
   "source": [
    "tags = 'python:run:hide'\n",
    "processed_tags = parse_tag(tags)\n",
    "processed_tags"
   ]
  },
  {
   "cell_type": "code",
   "execution_count": null,
   "metadata": {},
   "outputs": [],
   "source": [
    "#| hide\n",
    "test_eq(processed_tags['run'], True)\n",
    "test_eq(processed_tags['hide_in'], True)\n",
    "test_eq(processed_tags['hide_out'], True)\n",
    "test_eq(processed_tags['hide_call'], False)"
   ]
  },
  {
   "cell_type": "markdown",
   "metadata": {},
   "source": [
    "`parse_tag` parses the tag that is used to control the execution of the code in the notebook and markdown files.\n",
    "The tag is a string that contains the tag name and optional properties separated by colons.\n",
    "In markdown files the tag follows the triple backticks that start the code block and in notebooks the tag is the first line of the code block and is prefixed with `#|`.\n",
    "The properties are:\n",
    "\n",
    "`run`: Whether to run the code\n",
    "\n",
    "`hide_in`: Whether to hide the input code\n",
    "\n",
    "`hide_out`: Whether to hide the output\n",
    "\n",
    "`hide_call`: Whether to hide the final call line\n",
    "\n",
    "The tag is used in the markdown and notebook files to control the execution of the code.\n",
    "\n"
   ]
  },
  {
   "cell_type": "code",
   "execution_count": null,
   "metadata": {},
   "outputs": [],
   "source": [
    "#| export\n",
    "def execute_code(\n",
    "        code: str, # The code to execute\n",
    "        namespace: Optional[Dict] = None # Optional namespace to use for execution\n",
    "        ) -> Dict: # Returns a dict with keys: output (captured stdout), error (captured stderr), result (last expression result), namespace (updated namespace)\n",
    "    \"\"\"Execute Python code and return the execution result.\"\"\"\n",
    "    if namespace is None:\n",
    "        namespace = {}\n",
    "    \n",
    "    # Add default imports\n",
    "    if 'from fasthtml.common import' not in code and 'fasthtml' not in namespace:\n",
    "        exec('from fasthtml.common import *', namespace)\n",
    "    if 'from monsterui.all import' not in code and 'monsterui' not in namespace:\n",
    "        exec('from monsterui.all import *', namespace)\n",
    "    \n",
    "    # Capture stdout and stderr\n",
    "    orig_stdout, orig_stderr = sys.stdout, sys.stderr\n",
    "    captured_output = io.StringIO()\n",
    "    sys.stdout = sys.stderr = captured_output\n",
    "    \n",
    "    result = None\n",
    "    error = None\n",
    "    \n",
    "    try:\n",
    "        # Execute the code\n",
    "        exec_result = exec(code, namespace)\n",
    "        \n",
    "        # Try to get the last expression result if it's an expression\n",
    "        try:\n",
    "            last_line = code.strip().split('\\n')[-1]\n",
    "            if not (last_line.startswith('#') or \n",
    "                    re.match(r'^\\s*$', last_line) or\n",
    "                    '=' in last_line or \n",
    "                    last_line.startswith('def ') or\n",
    "                    last_line.startswith('class ') or\n",
    "                    last_line.startswith('import ') or\n",
    "                    last_line.startswith('from ') or\n",
    "                    last_line.startswith('print(')):  # Skip print statements\n",
    "                # It seems to be an expression, re-evaluate to get its result\n",
    "                result = eval(last_line, namespace)\n",
    "        except:\n",
    "            # Not an expression or other issue, use exec result\n",
    "            result = exec_result\n",
    "    except Exception as e:\n",
    "        error = str(e)\n",
    "    finally:\n",
    "        # Restore stdout and stderr\n",
    "        output = captured_output.getvalue()\n",
    "        sys.stdout, sys.stderr = orig_stdout, orig_stderr\n",
    "    \n",
    "    return {\n",
    "        'output': output,\n",
    "        'error': error,\n",
    "        'result': result,\n",
    "        'namespace': namespace\n",
    "    }"
   ]
  },
  {
   "cell_type": "code",
   "execution_count": null,
   "metadata": {},
   "outputs": [],
   "source": [
    "code_samp = \"\"\"\n",
    "def greeting(name):\n",
    "    print(f\"Debug: Function called with name: {name}\")\n",
    "    return f\"Hello, {name}!\"\n",
    "\n",
    "greeting(\"Alice\")\"\"\""
   ]
  },
  {
   "cell_type": "code",
   "execution_count": null,
   "metadata": {},
   "outputs": [],
   "source": [
    "test_eq(execute_code(code_samp)['result'], \"Hello, Alice!\")\n",
    "assert execute_code(code_samp)['output'].startswith(\"Debug:\")"
   ]
  },
  {
   "cell_type": "markdown",
   "metadata": {},
   "source": [
    "The `output` is captured from the stdout and stderr streams and would be what is printed to the console. The `result` is the value of the last expression in the code. Note that in a notebook environment the `output` can be captured twice but this doesn't happen at run time."
   ]
  },
  {
   "cell_type": "code",
   "execution_count": null,
   "metadata": {},
   "outputs": [],
   "source": [
    "#| export\n",
    "def process_code_block(\n",
    "        tag_props: Dict[str, bool], # Dict of tag properties    \n",
    "        code: str, # Python code to execute\n",
    "        namespace: Optional[Dict] = None # Optional namespace to use for execution\n",
    "        ) -> Dict: # Returns a dict with keys: show_code, show_output, code_html, output_html, namespace\n",
    "    \"\"\"Process a code block based on its tag properties.\"\"\"\n",
    "    \n",
    "    result = {\n",
    "        'show_code': not tag_props['hide_in'],\n",
    "        'show_output': not tag_props['hide_out'],\n",
    "        'code_html': '',\n",
    "        'output_html': '',\n",
    "        'namespace': namespace or {}\n",
    "    }\n",
    "    \n",
    "    # Process code for display (handle the hide-call option)\n",
    "    display_code = code\n",
    "    \n",
    "    # Execute code if needed\n",
    "    if tag_props['run']:\n",
    "        execution_result = execute_code(code, result['namespace'])\n",
    "        result['namespace'] = execution_result['namespace']\n",
    "        \n",
    "        # Format output HTML\n",
    "        output_html = []\n",
    "        \n",
    "        # Add stdout output if there's any\n",
    "        if execution_result['output']:\n",
    "            output_html.append(f'<pre class=\"output\">{execution_result[\"output\"]}</pre>')\n",
    "        \n",
    "        # Add error message if there's any\n",
    "        if execution_result['error']:\n",
    "            output_html.append(f'<pre class=\"error\">{execution_result[\"error\"]}</pre>')\n",
    "        \n",
    "        # Add result if there's any and it's not None\n",
    "        if execution_result['result'] is not None:\n",
    "            try:\n",
    "                # Convert result to FastHTML XML\n",
    "                result_html = to_xml(execution_result['result'])\n",
    "                output_html.append(str(result_html))\n",
    "            except:\n",
    "                # Fallback to string representation\n",
    "                output_html.append(f'<pre class=\"result\">{execution_result[\"result\"]}</pre>')\n",
    "        \n",
    "        result['output_html'] = ''.join(output_html)\n",
    "    \n",
    "    # Process code for display (handle hide-call option if needed)\n",
    "    if tag_props['hide_call']:\n",
    "        # If not showing the call, try to hide the last line if it's an expression\n",
    "        lines = display_code.split('\\n')\n",
    "        last_non_empty = next((i for i in range(len(lines)-1, -1, -1) \n",
    "                              if lines[i].strip() and not lines[i].strip().startswith('#')), -1)\n",
    "        \n",
    "        if last_non_empty >= 0 and not ('=' in lines[last_non_empty] \n",
    "                                       or lines[last_non_empty].strip().startswith(('def ', 'class ', 'import ', 'from '))):\n",
    "            lines = lines[:last_non_empty] + lines[last_non_empty+1:]\n",
    "            display_code = '\\n'.join(lines)\n",
    "    \n",
    "    # Format code HTML\n",
    "    if result['show_code']:\n",
    "        result['code_html'] = f'<pre><code class=\"language-python\">{display_code}</code></pre>'\n",
    "    \n",
    "    return result"
   ]
  },
  {
   "cell_type": "code",
   "execution_count": null,
   "metadata": {},
   "outputs": [],
   "source": [
    "code_block_dict =  process_code_block(parse_tag('python:run:hide'), code_samp)\n",
    "test_eq(code_block_dict['show_code'], False)\n",
    "test_eq(code_block_dict['show_output'], False)\n",
    "test_eq(code_block_dict['code_html'], '')"
   ]
  },
  {
   "cell_type": "code",
   "execution_count": null,
   "metadata": {},
   "outputs": [],
   "source": [
    "#| export\n",
    "def render_markdown_post(\n",
    "        post: Post, # The post to render\n",
    "        open_links_new_window: bool = False, \n",
    "        live_label: bool = True\n",
    "        ) -> NotStr: # The rendered HTML in a NotStr object (FastHTML object)\n",
    "    \"\"\"Render a Markdown post with code execution.\"\"\"\n",
    "    \n",
    "    with open(post.path, 'r', encoding='utf-8') as f:\n",
    "        content = f.read()\n",
    "    \n",
    "    # Remove frontmatter if present\n",
    "    if content.startswith('---'):\n",
    "        parts = content.split('---', 2)\n",
    "        if len(parts) >= 3:\n",
    "            content = parts[2]\n",
    "    \n",
    "    # Split the content on code blocks\n",
    "    parts = re.split(r'```(.*?)```', content, flags=re.DOTALL)\n",
    "    \n",
    "    # Initialize variables\n",
    "    processed_parts = []\n",
    "    namespace = {}  # Shared execution namespace for all code blocks\n",
    "    \n",
    "    # Process each part\n",
    "    for i, part in enumerate(parts):\n",
    "        if i % 2 == 0:  # Not a code block\n",
    "            # Convert markdown to HTML\n",
    "            html = str(render_md(part))\n",
    "            processed_parts.append(html)\n",
    "        else:  # Code block\n",
    "            # Extract tag and code\n",
    "            lines = part.split('\\n', 1)\n",
    "            tag_str = lines[0].strip() if lines else ''\n",
    "            code = lines[1] if len(lines) > 1 else ''\n",
    "            \n",
    "            # Skip non-Python code blocks\n",
    "            if not tag_str.startswith('python'):\n",
    "                processed_parts.append(f'```{part}```')\n",
    "                continue\n",
    "            \n",
    "            # Parse the tag\n",
    "            tag_props = parse_tag(tag_str)\n",
    "            \n",
    "            # Process the code block\n",
    "            result = process_code_block(tag_props, code, namespace)\n",
    "            namespace = result['namespace']  # Update the namespace\n",
    "            \n",
    "            # Add the processed code and output to the result\n",
    "            if result['show_code']:\n",
    "                processed_parts.append(result['code_html'])\n",
    "            \n",
    "            if tag_props['run'] and result['show_output'] and result['output_html']:\n",
    "                processed_parts.append('<div class=\"mb-4\"></div>')\n",
    "                processed_parts.append(result['output_html'])\n",
    "                if live_label:\n",
    "                    processed_parts.append('<div class=\"text-gray-400 text-sm mt-2 italic\">↑ Live rendered output</div>')\n",
    "            processed_parts.append('<div class=\"mb-8\"></div>')\n",
    "    \n",
    "    # Combine all parts\n",
    "    html_content = ''.join(processed_parts)\n",
    "    \n",
    "    # Process links if needed\n",
    "    if open_links_new_window:\n",
    "        soup = BeautifulSoup(html_content, 'html.parser')\n",
    "        for link in soup.find_all('a'):\n",
    "            if not link.get('href', '').startswith('/'):\n",
    "                link['target'] = '_blank'\n",
    "                link['rel'] = 'noopener noreferrer'\n",
    "        html_content = str(soup)\n",
    "    \n",
    "    return NotStr(html_content)"
   ]
  },
  {
   "cell_type": "code",
   "execution_count": null,
   "metadata": {},
   "outputs": [],
   "source": [
    "#| hide\n",
    "md_post = [post for post in posts if post.slug == 'md_test'][0]\n",
    "rendered_md_post = render_markdown_post(md_post)\n",
    "assert 'MD Test' in rendered_md_post\n",
    "assert '_blank' not in rendered_md_post\n",
    "assert '↑ Live rendered output' in rendered_md_post\n",
    "rendered_md_post = render_markdown_post(md_post, open_links_new_window=True, live_label=False)\n",
    "assert '_blank' in rendered_md_post\n",
    "assert '↑ Live rendered output' not in rendered_md_post\n",
    "\n",
    "rendered_md_post = render_markdown_post(md_post)\n",
    "# python:run:hide - Run code but hide code and output\n",
    "assert 'a = 5' not in rendered_md_post\n",
    "# python:run - Show code block and output\n",
    "assert 'return x + y' in rendered_md_post\n",
    "assert '6' in rendered_md_post\n",
    "# python - Show code but don't run it\n",
    "assert '7' not in rendered_md_post\n",
    "# python:hide-in - Show output but hide-in\n",
    "assert 'print(f\"The result of adding three to {a} is {add_number(a, 3)}' not in rendered_md_post\n",
    "assert '8' in rendered_md_post\n",
    "# python:hide-out - Show code block but hide-out\n",
    "assert 'print(f\"The result of adding four to {a} is {add_number(a, 4)}\")' in rendered_md_post\n",
    "assert '9' not in rendered_md_post\n",
    "# python:run:hide-call - Show code block and output but hide-call\n",
    "assert '11' in rendered_md_post\n",
    "assert 'add_number(a, 6)' not in rendered_md_post\n",
    "assert 'print(f\"The result of adding five to {a} is {add_number(a, 5)}\")' in rendered_md_post"
   ]
  },
  {
   "cell_type": "code",
   "execution_count": null,
   "metadata": {},
   "outputs": [],
   "source": [
    "#| export\n",
    "def render_notebook_post(\n",
    "        post: Post, # The post to render\n",
    "        open_links_new_window: bool = False, \n",
    "        live_label: bool = True) -> NotStr:\n",
    "    \"\"\"Render a Jupyter Notebook post with code execution.\"\"\"\n",
    "    # Load the notebook\n",
    "    notebook = nbformat.read(post.path, as_version=4)\n",
    "    \n",
    "    # Initialize variables\n",
    "    processed_parts = []\n",
    "    namespace = {}  # Shared execution namespace\n",
    "    \n",
    "    # Skip the frontmatter cell if present\n",
    "    start_index = 1 if (len(notebook.cells) > 0 and notebook.cells[0].cell_type == 'raw') else 0\n",
    "    \n",
    "    # Process each cell\n",
    "    for cell in notebook.cells[start_index:]:\n",
    "        if cell.cell_type == 'markdown':\n",
    "            # Convert markdown to HTML\n",
    "            html = str(render_md(cell.source))\n",
    "            processed_parts.append(html)\n",
    "        \n",
    "        elif cell.cell_type == 'code':\n",
    "            # Extract tag from the first line if present\n",
    "            lines = cell.source.split('\\n')\n",
    "            tag_str = ''\n",
    "            \n",
    "            # Check if the first line is a tag\n",
    "            if lines and re.match(r'^\\s*#\\|python', lines[0]):\n",
    "                # If the tag is just #|python with no options, treat it like the default\n",
    "                if lines[0].strip() == '#|python':\n",
    "                    tag_str = 'python:run:hide-out'\n",
    "                else:\n",
    "                    tag_str = lines[0].strip()[2:]  # Remove the #| prefix\n",
    "                code = '\\n'.join(lines[1:])  # Rest of the code\n",
    "            else:\n",
    "                code = cell.source  # Use the entire cell source \n",
    "                # Default tag for notebook cells (Only set this for cells without explicit tags)\n",
    "                tag_str = 'python:run:hide'\n",
    "            \n",
    "            # Parse the tag\n",
    "            tag_props = parse_tag(tag_str)\n",
    "            \n",
    "            # Process the code cell\n",
    "            result = process_code_block(tag_props, code, namespace)\n",
    "            namespace = result['namespace']  # Update the namespace\n",
    "            \n",
    "            # Add the processed code and output to the result\n",
    "            if result['show_code']:\n",
    "                processed_parts.append(result['code_html'])\n",
    "            \n",
    "            if tag_props['run'] and result['show_output'] and result['output_html']:\n",
    "                processed_parts.append(result['output_html'])\n",
    "                if live_label:\n",
    "                    processed_parts.append('<div class=\"text-gray-400 text-sm mt-2 italic\">↑ Live rendered output</div>')\n",
    "            processed_parts.append('<div class=\"mb-8\"></div>')\n",
    "    \n",
    "    # Combine all parts\n",
    "    html_content = ''.join(processed_parts)\n",
    "    \n",
    "    # Process links if needed\n",
    "    if open_links_new_window:\n",
    "        soup = BeautifulSoup(html_content, 'html.parser')\n",
    "        for link in soup.find_all('a'):\n",
    "            if not link.get('href', '').startswith('/'):\n",
    "                link['target'] = '_blank'\n",
    "                link['rel'] = 'noopener noreferrer'\n",
    "        html_content = str(soup)\n",
    "    \n",
    "    return NotStr(html_content)"
   ]
  },
  {
   "cell_type": "code",
   "execution_count": null,
   "metadata": {},
   "outputs": [],
   "source": [
    "#| hide\n",
    "nb_post = [post for post in posts if post.slug == 'nb_test'][0]\n",
    "rendered_nb_post = render_notebook_post(nb_post)\n",
    "assert 'NB Test' in rendered_nb_post\n",
    "assert '_blank' not in rendered_nb_post\n",
    "assert '↑ Live rendered output' in rendered_nb_post\n",
    "rendered_nb_post = render_markdown_post(md_post, open_links_new_window=True, live_label=False)\n",
    "assert '_blank' in rendered_nb_post\n",
    "assert '↑ Live rendered output' not in rendered_nb_post\n",
    "\n",
    "rendered_nb_post = render_notebook_post(nb_post)\n",
    "# python:run:hide - Run code but hide code and output\n",
    "assert 'a = 5' not in rendered_nb_post\n",
    "# python:run - Show code block and output\n",
    "assert 'return x + y' in rendered_nb_post\n",
    "assert '6' in rendered_nb_post\n",
    "# python - Show code and output\n",
    "assert 'print(f\"The result of adding two to {a} is {add_number(a, 2)}\")' in rendered_nb_post\n",
    "assert '7' in rendered_nb_post\n",
    "# python:run:hide-in - Show output but hide-in\n",
    "assert 'print(f\"The result of adding three to {a} is {add_number(a, 2)}' not in rendered_nb_post\n",
    "assert '8' in rendered_nb_post\n",
    "# python:run:hide-call - Show code block and output but hide-call\n",
    "assert '10' in rendered_nb_post\n",
    "assert 'add_number(a, 5)' not in rendered_nb_post\n",
    "assert 'print(f\"The result of adding four to {a} is {add_number(a, 4)}\")' in rendered_md_post"
   ]
  },
  {
   "cell_type": "code",
   "execution_count": null,
   "metadata": {},
   "outputs": [],
   "source": [
    "#| hide\n",
    "import nbdev; nbdev.nbdev_export()"
   ]
  }
 ],
 "metadata": {
  "kernelspec": {
   "display_name": "python3",
   "language": "python",
   "name": "python3"
  }
 },
 "nbformat": 4,
 "nbformat_minor": 4
}
