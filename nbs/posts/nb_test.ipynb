{
 "cells": [
  {
   "cell_type": "raw",
   "metadata": {},
   "source": [
    "---\n",
    "title: NB Test\n",
    "summary: A test of an .ipynb file\n",
    "date: February 24, 2025\n",
    "tags:\n",
    "  - python\n",
    "  - fasthtml\n",
    "  - monsterui\n",
    "---"
   ]
  },
  {
   "cell_type": "markdown",
   "metadata": {},
   "source": [
    "# NB Test\n",
    "\n",
    "<https://www.example.com>"
   ]
  },
  {
   "cell_type": "code",
   "execution_count": null,
   "metadata": {},
   "outputs": [],
   "source": [
    "a = 5"
   ]
  },
  {
   "cell_type": "code",
   "execution_count": null,
   "metadata": {},
   "outputs": [
    {
     "data": {
      "text/plain": [
       "6"
      ]
     },
     "execution_count": null,
     "metadata": {},
     "output_type": "execute_result"
    }
   ],
   "source": [
    "#|python\n",
    "# Show code block but not the output\n",
    "def add_number(x, y):\n",
    "    return x + y\n",
    "print(f\"a is {a}\")\n",
    "add_number(a, 1)"
   ]
  },
  {
   "cell_type": "code",
   "execution_count": null,
   "metadata": {},
   "outputs": [
    {
     "data": {
      "text/plain": [
       "6"
      ]
     },
     "execution_count": null,
     "metadata": {},
     "output_type": "execute_result"
    }
   ],
   "source": [
    "#|python:run\n",
    "# Show code block and the output\n",
    "print(f\"The result of adding two to {a} is {add_number(a, 2)}\")\n",
    "add_number(a, 2)"
   ]
  },
  {
   "cell_type": "code",
   "execution_count": null,
   "metadata": {},
   "outputs": [
    {
     "data": {
      "text/plain": [
       "6"
      ]
     },
     "execution_count": null,
     "metadata": {},
     "output_type": "execute_result"
    }
   ],
   "source": [
    "#|python:run:hide-in\n",
    "# Don't show code block but show the output\n",
    "print(f\"The result of adding three to {a} is {add_number(a,3)}\")\n",
    "add_number(a, 3)"
   ]
  },
  {
   "cell_type": "code",
   "execution_count": null,
   "metadata": {},
   "outputs": [
    {
     "data": {
      "text/plain": [
       "6"
      ]
     },
     "execution_count": null,
     "metadata": {},
     "output_type": "execute_result"
    }
   ],
   "source": [
    "#|python:run:hide-call\n",
    "# Show code block but hide the last line (function call) and show the output\n",
    "print(f\"The result of adding four to {a} is {add_number(a, 4)}\")\n",
    "add_number(a, 5)"
   ]
  }
 ],
 "metadata": {
  "kernelspec": {
   "display_name": "python3",
   "language": "python",
   "name": "python3"
  }
 },
 "nbformat": 4,
 "nbformat_minor": 2
}
